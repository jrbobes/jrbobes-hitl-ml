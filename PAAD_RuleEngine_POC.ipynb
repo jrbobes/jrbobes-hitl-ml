{
  "nbformat": 4,
  "nbformat_minor": 0,
  "metadata": {
    "colab": {
      "provenance": [],
      "collapsed_sections": [
        "WTYSJ-PWXDnb",
        "Y7xGuUTrWkFw"
      ],
      "authorship_tag": "ABX9TyMcbn4KSRM4K8WcZxlydPhZ",
      "include_colab_link": true
    },
    "kernelspec": {
      "name": "python3",
      "display_name": "Python 3"
    },
    "language_info": {
      "name": "python"
    }
  },
  "cells": [
    {
      "cell_type": "markdown",
      "metadata": {
        "id": "view-in-github",
        "colab_type": "text"
      },
      "source": [
        "<a href=\"https://colab.research.google.com/github/jrbobes/jrbobes-hitl-ml/blob/master/PAAD_RuleEngine_POC.ipynb\" target=\"_parent\"><img src=\"https://colab.research.google.com/assets/colab-badge.svg\" alt=\"Open In Colab\"/></a>"
      ]
    },
    {
      "cell_type": "markdown",
      "source": [
        "## **PAAD - RuleEngine - PoC**\n",
        "\n",
        "author: jose.bobes at udc.es"
      ],
      "metadata": {
        "id": "tnvpLS8jvM63"
      }
    },
    {
      "cell_type": "markdown",
      "source": [
        "# Importing required libraries"
      ],
      "metadata": {
        "id": "WTYSJ-PWXDnb"
      }
    },
    {
      "cell_type": "code",
      "execution_count": 2,
      "metadata": {
        "id": "MnXfq9Oo86FR",
        "colab": {
          "base_uri": "https://localhost:8080/"
        },
        "outputId": "fbfabb7e-4570-48bb-9c1e-5d97038c5845"
      },
      "outputs": [
        {
          "output_type": "stream",
          "name": "stdout",
          "text": [
            "Python: 3.8.16 (default, Dec  7 2022, 01:12:13) \n",
            "[GCC 7.5.0]\n",
            "scipy: 1.7.3\n",
            "numpy: 1.21.6\n",
            "matplotlib: 3.2.2\n",
            "pandas: 1.3.5\n"
          ]
        }
      ],
      "source": [
        "# Importing Required Libraries\n",
        "import sys\n",
        "print('Python: {}'.format(sys.version))\n",
        "\n",
        "import scipy\n",
        "print('scipy: {}'.format(scipy.__version__))\n",
        "\n",
        "import numpy\n",
        "print('numpy: {}'.format(numpy.__version__))\n",
        "\n",
        "import matplotlib\n",
        "import matplotlib.pyplot as plt\n",
        "print('matplotlib: {}'.format(matplotlib.__version__))\n",
        "\n",
        "import pandas as pd\n",
        "print('pandas: {}'.format(pd.__version__))\n",
        "\n",
        "\n",
        "\n"
      ]
    },
    {
      "cell_type": "markdown",
      "source": [
        "# Preparing the Pancreas data"
      ],
      "metadata": {
        "id": "tfklyKbTW33T"
      }
    },
    {
      "cell_type": "code",
      "source": [
        "# Loading Data\n",
        "url = \"https://raw.githubusercontent.com/jrbobes/jrbobes-hitl-ml/master/Libro1_Adapted.csv\"\n",
        "columns = ['ns10:file_uuid','ns2:gender', 'ns5:race', 'ns5:age_at_initial_pathologic_diagnosis', 'ns3:pathologic_T', 'ns3:pathologic_N', 'ns3:pathologic_M', 'ns3:pathologic_stage', 'ns5:vital_status', 'ns5:days_to_death', 'therapy_type']\n",
        "\n",
        "dataset = pd.read_csv(url, sep=';', usecols=columns, encoding = \"ISO-8859-1\")\n",
        "\n",
        "print(dataset.shape)\n",
        "print(dataset.head())"
      ],
      "metadata": {
        "id": "kEkYhYyo3Ag2",
        "colab": {
          "base_uri": "https://localhost:8080/"
        },
        "outputId": "c7be5c17-1c23-457b-df63-9e543c8dbf13"
      },
      "execution_count": 3,
      "outputs": [
        {
          "output_type": "stream",
          "name": "stdout",
          "text": [
            "(205, 11)\n",
            "                         ns10:file_uuid ns2:gender                   ns5:race  \\\n",
            "0  1AF64746-0F41-408F-9CB3-D567BEBA1217     FEMALE                      WHITE   \n",
            "1  0D7B23AC-0988-4E95-9AF3-82180A1DAB0A     FEMALE                      WHITE   \n",
            "2  290AC731-F653-432D-8C35-8E6C178BD2C6     FEMALE                      WHITE   \n",
            "3  E2FC1DD6-0B4D-409D-9D1C-0F8E0ADB6113     FEMALE  BLACK OR AFRICAN AMERICAN   \n",
            "4  40A76730-988D-4FF1-A17A-91AA85DD7C76       MALE                      WHITE   \n",
            "\n",
            "   ns5:age_at_initial_pathologic_diagnosis ns3:pathologic_stage  \\\n",
            "0                                       53            Stage IIB   \n",
            "1                                       54            Stage IIA   \n",
            "2                                       58             Stage IV   \n",
            "3                                       66            Stage IIA   \n",
            "4                                       64            Stage IIA   \n",
            "\n",
            "  ns3:pathologic_T ns3:pathologic_N ns3:pathologic_M ns5:vital_status  \\\n",
            "0               T3               N1               M0             Dead   \n",
            "1               T3               N0               MX            Alive   \n",
            "2               T3               N0               M1            Alive   \n",
            "3               T3               N0               M0             Dead   \n",
            "4               T3               N0               M0             Dead   \n",
            "\n",
            "   ns5:days_to_death  therapy_type  \n",
            "0              486.0         Other  \n",
            "1                NaN         Other  \n",
            "2                NaN         Other  \n",
            "3             1332.0  Chemotherapy  \n",
            "4              117.0         Other  \n"
          ]
        }
      ]
    },
    {
      "cell_type": "code",
      "source": [
        "# Feature Selection\n",
        "# Split dataset in features and target variables (REF: https://www.datacamp.com/tutorial/decision-tree-classification-python)\n",
        "feature_cols = ['ns2:gender', 'ns5:race', 'ns5:age_at_initial_pathologic_diagnosis', 'ns3:pathologic_T', 'ns3:pathologic_N', 'ns3:pathologic_M', 'ns3:pathologic_stage']\n",
        "\n",
        "X = dataset[feature_cols] # Features\n",
        "X_encoded = pd.get_dummies(X)\n",
        "y = dataset.therapy_type # Target variable"
      ],
      "metadata": {
        "id": "yHlwMOKX2ctq"
      },
      "execution_count": 4,
      "outputs": []
    },
    {
      "cell_type": "markdown",
      "source": [
        "# Installing the rules engine"
      ],
      "metadata": {
        "id": "Y7xGuUTrWkFw"
      }
    },
    {
      "cell_type": "code",
      "source": [
        "!pip install rule_engine\n",
        "\n",
        "import rule_engine"
      ],
      "metadata": {
        "colab": {
          "base_uri": "https://localhost:8080/"
        },
        "id": "zJolEyYHnsNI",
        "outputId": "a5426141-73e0-4930-c45b-48d2c66d3bdb"
      },
      "execution_count": 5,
      "outputs": [
        {
          "output_type": "stream",
          "name": "stdout",
          "text": [
            "Looking in indexes: https://pypi.org/simple, https://us-python.pkg.dev/colab-wheels/public/simple/\n",
            "Collecting rule_engine\n",
            "  Downloading rule-engine-3.5.0.tar.gz (40 kB)\n",
            "\u001b[K     |████████████████████████████████| 40 kB 3.1 MB/s \n",
            "\u001b[?25hCollecting ply>=3.9\n",
            "  Downloading ply-3.11-py2.py3-none-any.whl (49 kB)\n",
            "\u001b[K     |████████████████████████████████| 49 kB 5.0 MB/s \n",
            "\u001b[?25hRequirement already satisfied: python-dateutil~=2.7 in /usr/local/lib/python3.8/dist-packages (from rule_engine) (2.8.2)\n",
            "Requirement already satisfied: six>=1.5 in /usr/local/lib/python3.8/dist-packages (from python-dateutil~=2.7->rule_engine) (1.15.0)\n",
            "Building wheels for collected packages: rule-engine\n",
            "  Building wheel for rule-engine (setup.py) ... \u001b[?25l\u001b[?25hdone\n",
            "  Created wheel for rule-engine: filename=rule_engine-3.5.0-py3-none-any.whl size=44366 sha256=1f53d9338fab7e009784d1656cac7fffb32930b2b8e18b1d333502677c669919\n",
            "  Stored in directory: /root/.cache/pip/wheels/d6/25/45/26c5f3f9fe4c0094cd95b32ebc40bd315cf803c8c1aaaecbc1\n",
            "Successfully built rule-engine\n",
            "Installing collected packages: ply, rule-engine\n",
            "Successfully installed ply-3.11 rule-engine-3.5.0\n"
          ]
        }
      ]
    },
    {
      "cell_type": "markdown",
      "source": [
        "# Explore the data"
      ],
      "metadata": {
        "id": "OOGx1voSxS5d"
      }
    },
    {
      "cell_type": "code",
      "source": [
        "dataset.info()"
      ],
      "metadata": {
        "colab": {
          "base_uri": "https://localhost:8080/"
        },
        "id": "4xaRrlrZxSgw",
        "outputId": "c6f2b259-1c97-4c5d-da93-46f6eac8be91"
      },
      "execution_count": 6,
      "outputs": [
        {
          "output_type": "stream",
          "name": "stdout",
          "text": [
            "<class 'pandas.core.frame.DataFrame'>\n",
            "RangeIndex: 205 entries, 0 to 204\n",
            "Data columns (total 11 columns):\n",
            " #   Column                                   Non-Null Count  Dtype  \n",
            "---  ------                                   --------------  -----  \n",
            " 0   ns10:file_uuid                           205 non-null    object \n",
            " 1   ns2:gender                               205 non-null    object \n",
            " 2   ns5:race                                 200 non-null    object \n",
            " 3   ns5:age_at_initial_pathologic_diagnosis  205 non-null    int64  \n",
            " 4   ns3:pathologic_stage                     202 non-null    object \n",
            " 5   ns3:pathologic_T                         205 non-null    object \n",
            " 6   ns3:pathologic_N                         205 non-null    object \n",
            " 7   ns3:pathologic_M                         205 non-null    object \n",
            " 8   ns5:vital_status                         205 non-null    object \n",
            " 9   ns5:days_to_death                        67 non-null     float64\n",
            " 10  therapy_type                             205 non-null    object \n",
            "dtypes: float64(1), int64(1), object(9)\n",
            "memory usage: 17.7+ KB\n"
          ]
        }
      ]
    },
    {
      "cell_type": "code",
      "source": [
        "print(dataset['ns5:days_to_death'])\n",
        "\n",
        "print(\"Age at initial diagnosis MEAN: \" + str(dataset['ns5:age_at_initial_pathologic_diagnosis'].mean()))"
      ],
      "metadata": {
        "colab": {
          "base_uri": "https://localhost:8080/"
        },
        "id": "m-9RxutO0XDF",
        "outputId": "6fbaa959-a739-47f4-df84-bdcdce642add"
      },
      "execution_count": 7,
      "outputs": [
        {
          "output_type": "stream",
          "name": "stdout",
          "text": [
            "0       486.0\n",
            "1         NaN\n",
            "2         NaN\n",
            "3      1332.0\n",
            "4       117.0\n",
            "        ...  \n",
            "200     394.0\n",
            "201       NaN\n",
            "202     110.0\n",
            "203     741.0\n",
            "204     123.0\n",
            "Name: ns5:days_to_death, Length: 205, dtype: float64\n",
            "Age at initial diagnosis MEAN: 64.8\n"
          ]
        }
      ]
    },
    {
      "cell_type": "markdown",
      "source": [
        "# Create Pancreatic Adenocarcinoma NCCN Guidelines rules"
      ],
      "metadata": {
        "id": "z6ButCsj-qfs"
      }
    },
    {
      "cell_type": "code",
      "source": [
        "# Establish a context\n",
        "#paadRulesContext = rule_engine.Context(default_value=None)\n",
        "\n",
        "# Declare all the rules\n",
        "rulePan1 = rule_engine.Rule(\n",
        "  'therapy_type == \"Chemotherapy\"'\n",
        ")\n",
        "\n",
        "rulePan2 = rule_engine.Rule(\n",
        "  'therapy_type == \"Other\"'\n",
        ")"
      ],
      "metadata": {
        "id": "8GMj0Hy3-vlT"
      },
      "execution_count": 37,
      "outputs": []
    },
    {
      "cell_type": "code",
      "source": [
        "# Compose rules\n",
        "\n",
        "# We use a dictionary to fit into the matches function of the Rule Engine library\n",
        "dictionaryset = dataset.to_dict('records')\n",
        "#print(dictionaryset)\n",
        "\n",
        "#print('Chemotherapy results: ')\n",
        "#for row in rulePan1.filter(dictionaryset):\n",
        "#\t\tprint(row)\n",
        "  \n",
        "\n",
        "for idx,x in enumerate(dictionaryset):\n",
        "  if rulePan1.matches(dictionaryset[idx]):\n",
        "    print(str(idx) + \" -> PAN1\")\n",
        "  if rulePan2.matches(dictionaryset[idx]):\n",
        "    print(str(idx) + \" -> PAN2\")"
      ],
      "metadata": {
        "colab": {
          "base_uri": "https://localhost:8080/"
        },
        "id": "cQEc_7O3EGpA",
        "outputId": "acd5025a-35ad-4f8e-9530-1bc14ca05d7d"
      },
      "execution_count": 38,
      "outputs": [
        {
          "output_type": "stream",
          "name": "stdout",
          "text": [
            "0 -> PAN2\n",
            "1 -> PAN2\n",
            "2 -> PAN2\n",
            "3 -> PAN1\n",
            "4 -> PAN2\n",
            "5 -> PAN1\n",
            "6 -> PAN1\n",
            "7 -> PAN1\n",
            "8 -> PAN1\n",
            "9 -> PAN1\n",
            "10 -> PAN1\n",
            "11 -> PAN2\n",
            "12 -> PAN1\n",
            "13 -> PAN1\n",
            "14 -> PAN1\n",
            "15 -> PAN1\n",
            "16 -> PAN1\n",
            "17 -> PAN1\n",
            "18 -> PAN1\n",
            "19 -> PAN1\n",
            "20 -> PAN1\n",
            "21 -> PAN2\n",
            "22 -> PAN2\n",
            "23 -> PAN2\n",
            "24 -> PAN2\n",
            "25 -> PAN1\n",
            "26 -> PAN1\n",
            "27 -> PAN2\n",
            "28 -> PAN2\n",
            "29 -> PAN1\n",
            "30 -> PAN2\n",
            "31 -> PAN2\n",
            "32 -> PAN1\n",
            "33 -> PAN1\n",
            "34 -> PAN1\n",
            "35 -> PAN2\n",
            "36 -> PAN2\n",
            "37 -> PAN2\n",
            "38 -> PAN1\n",
            "39 -> PAN2\n",
            "40 -> PAN1\n",
            "41 -> PAN1\n",
            "42 -> PAN1\n",
            "43 -> PAN2\n",
            "44 -> PAN1\n",
            "45 -> PAN2\n",
            "46 -> PAN1\n",
            "47 -> PAN2\n",
            "49 -> PAN2\n",
            "50 -> PAN2\n",
            "51 -> PAN1\n",
            "52 -> PAN1\n",
            "53 -> PAN1\n",
            "54 -> PAN1\n",
            "55 -> PAN1\n",
            "56 -> PAN1\n",
            "57 -> PAN1\n",
            "58 -> PAN1\n",
            "59 -> PAN2\n",
            "60 -> PAN1\n",
            "61 -> PAN1\n",
            "62 -> PAN2\n",
            "63 -> PAN1\n",
            "64 -> PAN1\n",
            "65 -> PAN2\n",
            "66 -> PAN1\n",
            "67 -> PAN2\n",
            "68 -> PAN1\n",
            "69 -> PAN1\n",
            "70 -> PAN1\n",
            "71 -> PAN2\n",
            "72 -> PAN2\n",
            "73 -> PAN1\n",
            "74 -> PAN1\n",
            "75 -> PAN1\n",
            "76 -> PAN1\n",
            "77 -> PAN1\n",
            "78 -> PAN1\n",
            "79 -> PAN2\n",
            "80 -> PAN1\n",
            "81 -> PAN2\n",
            "82 -> PAN1\n",
            "83 -> PAN1\n",
            "84 -> PAN1\n",
            "85 -> PAN2\n",
            "86 -> PAN1\n",
            "87 -> PAN1\n",
            "88 -> PAN1\n",
            "89 -> PAN2\n",
            "90 -> PAN2\n",
            "91 -> PAN1\n",
            "92 -> PAN2\n",
            "93 -> PAN2\n",
            "94 -> PAN2\n",
            "95 -> PAN2\n",
            "96 -> PAN1\n",
            "97 -> PAN2\n",
            "98 -> PAN1\n",
            "99 -> PAN1\n",
            "100 -> PAN2\n",
            "101 -> PAN1\n",
            "102 -> PAN2\n",
            "103 -> PAN2\n",
            "104 -> PAN1\n",
            "105 -> PAN1\n",
            "106 -> PAN2\n",
            "107 -> PAN1\n",
            "108 -> PAN2\n",
            "109 -> PAN2\n",
            "110 -> PAN2\n",
            "111 -> PAN1\n",
            "112 -> PAN2\n",
            "113 -> PAN1\n",
            "114 -> PAN1\n",
            "116 -> PAN1\n",
            "117 -> PAN1\n",
            "118 -> PAN2\n",
            "119 -> PAN1\n",
            "120 -> PAN1\n",
            "121 -> PAN1\n",
            "122 -> PAN1\n",
            "123 -> PAN1\n",
            "124 -> PAN1\n",
            "125 -> PAN1\n",
            "126 -> PAN1\n",
            "127 -> PAN1\n",
            "128 -> PAN1\n",
            "129 -> PAN1\n",
            "130 -> PAN1\n",
            "131 -> PAN2\n",
            "132 -> PAN1\n",
            "133 -> PAN1\n",
            "134 -> PAN1\n",
            "135 -> PAN1\n",
            "136 -> PAN2\n",
            "137 -> PAN1\n",
            "138 -> PAN1\n",
            "139 -> PAN1\n",
            "140 -> PAN1\n",
            "141 -> PAN1\n",
            "142 -> PAN1\n",
            "143 -> PAN1\n",
            "144 -> PAN1\n",
            "145 -> PAN1\n",
            "146 -> PAN1\n",
            "147 -> PAN1\n",
            "148 -> PAN1\n",
            "149 -> PAN1\n",
            "150 -> PAN1\n",
            "151 -> PAN1\n",
            "152 -> PAN1\n",
            "153 -> PAN1\n",
            "154 -> PAN1\n",
            "155 -> PAN1\n",
            "156 -> PAN1\n",
            "157 -> PAN1\n",
            "158 -> PAN2\n",
            "159 -> PAN1\n",
            "160 -> PAN1\n",
            "162 -> PAN1\n",
            "163 -> PAN1\n",
            "164 -> PAN2\n",
            "165 -> PAN2\n",
            "166 -> PAN1\n",
            "167 -> PAN1\n",
            "168 -> PAN1\n",
            "169 -> PAN1\n",
            "170 -> PAN1\n",
            "171 -> PAN1\n",
            "172 -> PAN1\n",
            "173 -> PAN1\n",
            "174 -> PAN1\n",
            "175 -> PAN2\n",
            "176 -> PAN2\n",
            "177 -> PAN2\n",
            "178 -> PAN1\n",
            "179 -> PAN2\n",
            "180 -> PAN2\n",
            "181 -> PAN2\n",
            "182 -> PAN2\n",
            "183 -> PAN2\n",
            "184 -> PAN2\n",
            "185 -> PAN1\n",
            "186 -> PAN1\n",
            "187 -> PAN2\n",
            "188 -> PAN1\n",
            "189 -> PAN1\n",
            "190 -> PAN2\n",
            "191 -> PAN1\n",
            "192 -> PAN1\n",
            "194 -> PAN1\n",
            "195 -> PAN2\n",
            "196 -> PAN2\n",
            "197 -> PAN1\n",
            "198 -> PAN1\n",
            "199 -> PAN2\n",
            "200 -> PAN1\n",
            "201 -> PAN1\n",
            "202 -> PAN2\n",
            "203 -> PAN1\n",
            "204 -> PAN2\n"
          ]
        }
      ]
    }
  ]
}