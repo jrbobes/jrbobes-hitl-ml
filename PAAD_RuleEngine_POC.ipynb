{
  "nbformat": 4,
  "nbformat_minor": 0,
  "metadata": {
    "colab": {
      "provenance": [],
      "collapsed_sections": [
        "WTYSJ-PWXDnb",
        "Y7xGuUTrWkFw"
      ],
      "authorship_tag": "ABX9TyOrWezJe6QkeQqieXSRAsln",
      "include_colab_link": true
    },
    "kernelspec": {
      "name": "python3",
      "display_name": "Python 3"
    },
    "language_info": {
      "name": "python"
    }
  },
  "cells": [
    {
      "cell_type": "markdown",
      "metadata": {
        "id": "view-in-github",
        "colab_type": "text"
      },
      "source": [
        "<a href=\"https://colab.research.google.com/github/jrbobes/jrbobes-hitl-ml/blob/master/PAAD_RuleEngine_POC.ipynb\" target=\"_parent\"><img src=\"https://colab.research.google.com/assets/colab-badge.svg\" alt=\"Open In Colab\"/></a>"
      ]
    },
    {
      "cell_type": "markdown",
      "source": [
        "## **PAAD - RuleEngine - PoC**\n",
        "\n",
        "author: jose.bobes at udc.es"
      ],
      "metadata": {
        "id": "tnvpLS8jvM63"
      }
    },
    {
      "cell_type": "markdown",
      "source": [
        "# Importing required libraries"
      ],
      "metadata": {
        "id": "WTYSJ-PWXDnb"
      }
    },
    {
      "cell_type": "code",
      "execution_count": 13,
      "metadata": {
        "id": "MnXfq9Oo86FR",
        "colab": {
          "base_uri": "https://localhost:8080/"
        },
        "outputId": "95f9194d-9a17-4497-ccd6-750162e19992"
      },
      "outputs": [
        {
          "output_type": "stream",
          "name": "stdout",
          "text": [
            "Python: 3.8.16 (default, Dec  7 2022, 01:12:13) \n",
            "[GCC 7.5.0]\n",
            "scipy: 1.7.3\n",
            "numpy: 1.21.6\n",
            "matplotlib: 3.2.2\n",
            "pandas: 1.3.5\n"
          ]
        }
      ],
      "source": [
        "# Importing Required Libraries\n",
        "import sys\n",
        "print('Python: {}'.format(sys.version))\n",
        "\n",
        "import scipy\n",
        "print('scipy: {}'.format(scipy.__version__))\n",
        "\n",
        "import numpy\n",
        "print('numpy: {}'.format(numpy.__version__))\n",
        "\n",
        "import matplotlib\n",
        "import matplotlib.pyplot as plt\n",
        "print('matplotlib: {}'.format(matplotlib.__version__))\n",
        "\n",
        "import pandas as pd\n",
        "print('pandas: {}'.format(pd.__version__))\n",
        "\n"
      ]
    },
    {
      "cell_type": "markdown",
      "source": [
        "# Preparing the Pancreas data"
      ],
      "metadata": {
        "id": "tfklyKbTW33T"
      }
    },
    {
      "cell_type": "code",
      "source": [
        "# Loading Data\n",
        "url = \"https://raw.githubusercontent.com/jrbobes/jrbobes-hitl-ml/master/Libro1_Adapted.csv\"\n",
        "columns = ['ns10:file_uuid','ns2:gender', 'ns5:race', 'ns5:age_at_initial_pathologic_diagnosis', 'ns3:pathologic_T', 'ns3:pathologic_N', 'ns3:pathologic_M', 'ns3:pathologic_stage', 'ns5:vital_status', 'ns5:days_to_death', 'therapy_type']\n",
        "\n",
        "dataset = pd.read_csv(url, sep=';', usecols=columns, encoding = \"ISO-8859-1\")\n",
        "\n",
        "print(dataset.shape)\n",
        "print(dataset.head())"
      ],
      "metadata": {
        "id": "kEkYhYyo3Ag2",
        "colab": {
          "base_uri": "https://localhost:8080/"
        },
        "outputId": "127229b3-fb73-46a7-8534-47f3c85cffcb"
      },
      "execution_count": 14,
      "outputs": [
        {
          "output_type": "stream",
          "name": "stdout",
          "text": [
            "(205, 11)\n",
            "                         ns10:file_uuid ns2:gender                   ns5:race  \\\n",
            "0  1AF64746-0F41-408F-9CB3-D567BEBA1217     FEMALE                      WHITE   \n",
            "1  0D7B23AC-0988-4E95-9AF3-82180A1DAB0A     FEMALE                      WHITE   \n",
            "2  290AC731-F653-432D-8C35-8E6C178BD2C6     FEMALE                      WHITE   \n",
            "3  E2FC1DD6-0B4D-409D-9D1C-0F8E0ADB6113     FEMALE  BLACK OR AFRICAN AMERICAN   \n",
            "4  40A76730-988D-4FF1-A17A-91AA85DD7C76       MALE                      WHITE   \n",
            "\n",
            "   ns5:age_at_initial_pathologic_diagnosis ns3:pathologic_stage  \\\n",
            "0                                       53            Stage IIB   \n",
            "1                                       54            Stage IIA   \n",
            "2                                       58             Stage IV   \n",
            "3                                       66            Stage IIA   \n",
            "4                                       64            Stage IIA   \n",
            "\n",
            "  ns3:pathologic_T ns3:pathologic_N ns3:pathologic_M ns5:vital_status  \\\n",
            "0               T3               N1               M0             Dead   \n",
            "1               T3               N0               MX            Alive   \n",
            "2               T3               N0               M1            Alive   \n",
            "3               T3               N0               M0             Dead   \n",
            "4               T3               N0               M0             Dead   \n",
            "\n",
            "   ns5:days_to_death  therapy_type  \n",
            "0              486.0         Other  \n",
            "1                NaN         Other  \n",
            "2                NaN         Other  \n",
            "3             1332.0  Chemotherapy  \n",
            "4              117.0         Other  \n"
          ]
        }
      ]
    },
    {
      "cell_type": "code",
      "source": [
        "# Feature Selection\n",
        "# Split dataset in features and target variables (REF: https://www.datacamp.com/tutorial/decision-tree-classification-python)\n",
        "feature_cols = ['ns2:gender', 'ns5:race', 'ns5:age_at_initial_pathologic_diagnosis', 'ns3:pathologic_T', 'ns3:pathologic_N', 'ns3:pathologic_M', 'ns3:pathologic_stage']\n",
        "\n",
        "X = dataset[feature_cols] # Features\n",
        "X_encoded = pd.get_dummies(X)\n",
        "y = dataset.therapy_type # Target variable"
      ],
      "metadata": {
        "id": "yHlwMOKX2ctq"
      },
      "execution_count": 3,
      "outputs": []
    },
    {
      "cell_type": "markdown",
      "source": [
        "# Defining the rules engine"
      ],
      "metadata": {
        "id": "Y7xGuUTrWkFw"
      }
    },
    {
      "cell_type": "code",
      "source": [],
      "metadata": {
        "id": "zJolEyYHnsNI"
      },
      "execution_count": null,
      "outputs": []
    }
  ]
}