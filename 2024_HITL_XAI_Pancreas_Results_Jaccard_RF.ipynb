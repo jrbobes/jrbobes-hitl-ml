{
  "cells": [
    {
      "cell_type": "markdown",
      "metadata": {
        "id": "view-in-github",
        "colab_type": "text"
      },
      "source": [
        "<a href=\"https://colab.research.google.com/github/jrbobes/jrbobes-hitl-ml/blob/master/2024_HITL_XAI_Pancreas_Results_Jaccard_RF.ipynb\" target=\"_parent\"><img src=\"https://colab.research.google.com/assets/colab-badge.svg\" alt=\"Open In Colab\"/></a>"
      ]
    },
    {
      "cell_type": "markdown",
      "source": [
        "# JACCARD similarity for features importance for RF"
      ],
      "metadata": {
        "id": "us8ugSxwtAnT"
      },
      "id": "us8ugSxwtAnT"
    },
    {
      "cell_type": "code",
      "execution_count": 1,
      "id": "b8c3cb3e-35cb-493a-aae4-8cafc40464d3",
      "metadata": {
        "id": "b8c3cb3e-35cb-493a-aae4-8cafc40464d3"
      },
      "outputs": [],
      "source": [
        "def w_jaccard(list1, list2):\n",
        "    if (len(list1) != len(list2)):\n",
        "        print(\"ERROR: different size\")\n",
        "    global_min = 0\n",
        "    global_max = 0\n",
        "    for i in range(len(list1)):\n",
        "        global_min = global_min + min(list1[i], list2[i])\n",
        "        global_max = global_max + max(list1[i], list2[i])\n",
        "    return global_min / global_max"
      ]
    },
    {
      "cell_type": "markdown",
      "source": [
        "# RECOMMENDED features"
      ],
      "metadata": {
        "id": "J6zVHBqDsqEs"
      },
      "id": "J6zVHBqDsqEs"
    },
    {
      "cell_type": "code",
      "execution_count": 3,
      "id": "6728440c-b562-4f2a-a945-a6f505bcf622",
      "metadata": {
        "id": "6728440c-b562-4f2a-a945-a6f505bcf622"
      },
      "outputs": [],
      "source": [
        "dict_rf_rec = dict(MDI_RF  = [3, 3, 2, 2,  3, 0, 2, 1, 2, 2, 2, 1, 1, 2],\n",
        "                   MDA_RF  = [1, 3, 3, 2,  3, 0, 3, 3, 2, 3, 0, 3, 3, 3],\n",
        "                   SHAP_RF = [2, 3, 2, 1,  3, 0, 2, 1, 2, 1, 3, 1, 2, 2],\n",
        "                   LIME_RF = [2, 3, 1, 1,  1, 1, 1, 1, 2, 2, 3, 1, 1, 0],\n",
        "                   GUIDE   = [1, 3, 2, 2,  1, 2, 2, 3, 1, 3, 1, 2, 2, 3],\n",
        "                   EXPERT  = [2, 3, 2, 3,  2, 2, 3, 3, 1, 3, 3, 2, 2, 3])"
      ]
    },
    {
      "cell_type": "code",
      "execution_count": 4,
      "id": "2f84ebac-8c9d-4598-b60c-74df60d095a4",
      "metadata": {
        "id": "2f84ebac-8c9d-4598-b60c-74df60d095a4"
      },
      "outputs": [],
      "source": [
        "def xai_jaccard(dictionary):\n",
        "    for name1, values1 in dictionary.items():\n",
        "      for name2, values2 in dictionary.items():\n",
        "          print(f\"{name1} - {name2}: \", w_jaccard(values1, values2))"
      ]
    },
    {
      "cell_type": "code",
      "execution_count": 5,
      "id": "af7e4923-8db7-4a8c-a297-3b0d95d06cd2",
      "metadata": {
        "colab": {
          "base_uri": "https://localhost:8080/"
        },
        "id": "af7e4923-8db7-4a8c-a297-3b0d95d06cd2",
        "outputId": "d3b8030e-1249-41a3-df39-19cf2cf3447c"
      },
      "outputs": [
        {
          "output_type": "stream",
          "name": "stdout",
          "text": [
            "MDI_RF - MDI_RF:  1.0\n",
            "MDI_RF - MDA_RF:  0.6111111111111112\n",
            "MDI_RF - SHAP_RF:  0.8214285714285714\n",
            "MDI_RF - LIME_RF:  0.6428571428571429\n",
            "MDI_RF - GUIDE:  0.5882352941176471\n",
            "MDI_RF - EXPERT:  0.6216216216216216\n",
            "MDA_RF - MDI_RF:  0.6111111111111112\n",
            "MDA_RF - MDA_RF:  1.0\n",
            "MDA_RF - SHAP_RF:  0.5833333333333334\n",
            "MDA_RF - LIME_RF:  0.40540540540540543\n",
            "MDA_RF - GUIDE:  0.7142857142857143\n",
            "MDA_RF - EXPERT:  0.6923076923076923\n",
            "SHAP_RF - MDI_RF:  0.8214285714285714\n",
            "SHAP_RF - MDA_RF:  0.5833333333333334\n",
            "SHAP_RF - SHAP_RF:  1.0\n",
            "SHAP_RF - LIME_RF:  0.6666666666666666\n",
            "SHAP_RF - GUIDE:  0.5588235294117647\n",
            "SHAP_RF - EXPERT:  0.6388888888888888\n",
            "LIME_RF - MDI_RF:  0.6428571428571429\n",
            "LIME_RF - MDA_RF:  0.40540540540540543\n",
            "LIME_RF - SHAP_RF:  0.6666666666666666\n",
            "LIME_RF - LIME_RF:  1.0\n",
            "LIME_RF - GUIDE:  0.5\n",
            "LIME_RF - EXPERT:  0.5428571428571428\n",
            "GUIDE - MDI_RF:  0.5882352941176471\n",
            "GUIDE - MDA_RF:  0.7142857142857143\n",
            "GUIDE - SHAP_RF:  0.5588235294117647\n",
            "GUIDE - LIME_RF:  0.5\n",
            "GUIDE - GUIDE:  1.0\n",
            "GUIDE - EXPERT:  0.8235294117647058\n",
            "EXPERT - MDI_RF:  0.6216216216216216\n",
            "EXPERT - MDA_RF:  0.6923076923076923\n",
            "EXPERT - SHAP_RF:  0.6388888888888888\n",
            "EXPERT - LIME_RF:  0.5428571428571428\n",
            "EXPERT - GUIDE:  0.8235294117647058\n",
            "EXPERT - EXPERT:  1.0\n"
          ]
        }
      ],
      "source": [
        "xai_jaccard(dict_rf_rec)"
      ]
    },
    {
      "cell_type": "markdown",
      "source": [
        "# MINIMUM features"
      ],
      "metadata": {
        "id": "ZE2B0hGBslHf"
      },
      "id": "ZE2B0hGBslHf"
    },
    {
      "cell_type": "code",
      "execution_count": 6,
      "id": "f87a1ebe-91b0-4e96-b131-bd962c3848b9",
      "metadata": {
        "id": "f87a1ebe-91b0-4e96-b131-bd962c3848b9"
      },
      "outputs": [],
      "source": [
        "dict_rf_min = dict(MDI_RF  = [3, 3, 1, 2, 1],\n",
        "                   MDA_RF  = [1, 3, 1, 3, 0],\n",
        "                   SHAP_RF = [2, 3, 1, 2, 2],\n",
        "                   LIME_RF = [2, 3, 1, 2, 2],\n",
        "                   GUIDE   = [1, 3, 2, 2, 2],\n",
        "                   EXPERT  = [2, 3, 1, 2, 3])"
      ]
    },
    {
      "cell_type": "code",
      "execution_count": 7,
      "id": "c4649e05-d567-4dbd-b12d-392aae98d379",
      "metadata": {
        "colab": {
          "base_uri": "https://localhost:8080/"
        },
        "id": "c4649e05-d567-4dbd-b12d-392aae98d379",
        "outputId": "bbc47392-d7b2-4de0-fe5f-a816ba8cc28e"
      },
      "outputs": [
        {
          "output_type": "stream",
          "name": "stdout",
          "text": [
            "MDI_RF - MDI_RF:  1.0\n",
            "MDI_RF - MDA_RF:  0.6363636363636364\n",
            "MDI_RF - SHAP_RF:  0.8181818181818182\n",
            "MDI_RF - LIME_RF:  0.8181818181818182\n",
            "MDI_RF - GUIDE:  0.6666666666666666\n",
            "MDI_RF - EXPERT:  0.75\n",
            "MDA_RF - MDI_RF:  0.6363636363636364\n",
            "MDA_RF - MDA_RF:  1.0\n",
            "MDA_RF - SHAP_RF:  0.6363636363636364\n",
            "MDA_RF - LIME_RF:  0.6363636363636364\n",
            "MDA_RF - GUIDE:  0.6363636363636364\n",
            "MDA_RF - EXPERT:  0.5833333333333334\n",
            "SHAP_RF - MDI_RF:  0.8181818181818182\n",
            "SHAP_RF - MDA_RF:  0.6363636363636364\n",
            "SHAP_RF - SHAP_RF:  1.0\n",
            "SHAP_RF - LIME_RF:  1.0\n",
            "SHAP_RF - GUIDE:  0.8181818181818182\n",
            "SHAP_RF - EXPERT:  0.9090909090909091\n",
            "LIME_RF - MDI_RF:  0.8181818181818182\n",
            "LIME_RF - MDA_RF:  0.6363636363636364\n",
            "LIME_RF - SHAP_RF:  1.0\n",
            "LIME_RF - LIME_RF:  1.0\n",
            "LIME_RF - GUIDE:  0.8181818181818182\n",
            "LIME_RF - EXPERT:  0.9090909090909091\n",
            "GUIDE - MDI_RF:  0.6666666666666666\n",
            "GUIDE - MDA_RF:  0.6363636363636364\n",
            "GUIDE - SHAP_RF:  0.8181818181818182\n",
            "GUIDE - LIME_RF:  0.8181818181818182\n",
            "GUIDE - GUIDE:  1.0\n",
            "GUIDE - EXPERT:  0.75\n",
            "EXPERT - MDI_RF:  0.75\n",
            "EXPERT - MDA_RF:  0.5833333333333334\n",
            "EXPERT - SHAP_RF:  0.9090909090909091\n",
            "EXPERT - LIME_RF:  0.9090909090909091\n",
            "EXPERT - GUIDE:  0.75\n",
            "EXPERT - EXPERT:  1.0\n"
          ]
        }
      ],
      "source": [
        "xai_jaccard(dict_rf_min)"
      ]
    },
    {
      "cell_type": "markdown",
      "source": [
        "# MAXIMUM features"
      ],
      "metadata": {
        "id": "-sUzaZOIstpV"
      },
      "id": "-sUzaZOIstpV"
    },
    {
      "cell_type": "code",
      "execution_count": 8,
      "id": "f045f817-3cef-4aff-ad24-9ac0dc41a533",
      "metadata": {
        "id": "f045f817-3cef-4aff-ad24-9ac0dc41a533"
      },
      "outputs": [],
      "source": [
        "dict_rf_max = dict(MDI_RF  = [3, 3, 2, 2, 1,   3, 0, 2, 1, 2, 3, 2, 1, 1, 2,   2, 2, 1, 1, 2, 2, 2, 1, 1, 2, 2, 2],\n",
        "                   MDA_RF  = [0, 3, 2, 3, 2,   1, 0, 3, 0, 2, 0, 0, 0, 0, 1,   0, 0, 0, 0, 0, 2, 1, 0, 0, 0, 1, 0],\n",
        "                   SHAP_RF = [2, 3, 1, 2, 1,   3, 1, 1, 1, 1, 1, 3, 1, 1, 1,   0, 2, 1, 1, 1, 2, 1, 2, 1, 0, 1, 0],\n",
        "                   LIME_RF = [2, 3, 1, 1, 1,   3, 1, 1, 1, 2, 1, 3, 1, 1, 1,   1, 3, 1, 1, 1, 3, 1, 1, 1, 1, 1, 1],\n",
        "                   GUIDE   = [1, 3, 2, 2, 2,   1, 2, 2, 3, 1, 3, 1, 2, 2, 3,   0, 0, 0, 0, 1, 2, 2, 2, 0, 0, 0, 0],\n",
        "                   EXPERT  = [2, 3, 1, 2, 3,   3, 3, 3, 2, 3, 3, 3, 2, 2, 3,   0, 0, 0, 0, 1, 1, 2, 3, 3, 3, 0, 0])"
      ]
    },
    {
      "cell_type": "code",
      "execution_count": 9,
      "id": "0f86fa48-9a95-4b64-9188-32261ab327e9",
      "metadata": {
        "colab": {
          "base_uri": "https://localhost:8080/"
        },
        "id": "0f86fa48-9a95-4b64-9188-32261ab327e9",
        "outputId": "2b087eb9-8c52-4978-ccfe-27dd59e9b944"
      },
      "outputs": [
        {
          "output_type": "stream",
          "name": "stdout",
          "text": [
            "MDI_RF - MDI_RF:  1.0\n",
            "MDI_RF - MDA_RF:  0.35294117647058826\n",
            "MDI_RF - SHAP_RF:  0.6274509803921569\n",
            "MDI_RF - LIME_RF:  0.6730769230769231\n",
            "MDI_RF - GUIDE:  0.49122807017543857\n",
            "MDI_RF - EXPERT:  0.5230769230769231\n",
            "MDA_RF - MDI_RF:  0.35294117647058826\n",
            "MDA_RF - MDA_RF:  1.0\n",
            "MDA_RF - SHAP_RF:  0.36585365853658536\n",
            "MDA_RF - LIME_RF:  0.3333333333333333\n",
            "MDA_RF - GUIDE:  0.4146341463414634\n",
            "MDA_RF - EXPERT:  0.3090909090909091\n",
            "SHAP_RF - MDI_RF:  0.6274509803921569\n",
            "SHAP_RF - MDA_RF:  0.36585365853658536\n",
            "SHAP_RF - SHAP_RF:  1.0\n",
            "SHAP_RF - LIME_RF:  0.8048780487804879\n",
            "SHAP_RF - GUIDE:  0.5\n",
            "SHAP_RF - EXPERT:  0.5087719298245614\n",
            "LIME_RF - MDI_RF:  0.6730769230769231\n",
            "LIME_RF - MDA_RF:  0.3333333333333333\n",
            "LIME_RF - SHAP_RF:  0.8048780487804879\n",
            "LIME_RF - LIME_RF:  1.0\n",
            "LIME_RF - GUIDE:  0.4074074074074074\n",
            "LIME_RF - EXPERT:  0.47540983606557374\n",
            "GUIDE - MDI_RF:  0.49122807017543857\n",
            "GUIDE - MDA_RF:  0.4146341463414634\n",
            "GUIDE - SHAP_RF:  0.5\n",
            "GUIDE - LIME_RF:  0.4074074074074074\n",
            "GUIDE - GUIDE:  1.0\n",
            "GUIDE - EXPERT:  0.6296296296296297\n",
            "EXPERT - MDI_RF:  0.5230769230769231\n",
            "EXPERT - MDA_RF:  0.3090909090909091\n",
            "EXPERT - SHAP_RF:  0.5087719298245614\n",
            "EXPERT - LIME_RF:  0.47540983606557374\n",
            "EXPERT - GUIDE:  0.6296296296296297\n",
            "EXPERT - EXPERT:  1.0\n"
          ]
        }
      ],
      "source": [
        "xai_jaccard(dict_rf_max)"
      ]
    },
    {
      "cell_type": "markdown",
      "source": [
        "# Guidelines vs Experts"
      ],
      "metadata": {
        "id": "gSRtigRSzQ6D"
      },
      "id": "gSRtigRSzQ6D"
    },
    {
      "cell_type": "code",
      "execution_count": null,
      "id": "5007928a-bc30-4d32-9d5b-922df8cc3170",
      "metadata": {
        "id": "5007928a-bc30-4d32-9d5b-922df8cc3170"
      },
      "outputs": [],
      "source": [
        "dict_fe = dict(GUIDE   = [1, 3, 2, 2, 2,   1, 2, 2, 3, 1, 3, 1, 2, 2, 3,   0, 0, 0, 0, 1, 2, 2, 2, 0, 0, 0, 0],\n",
        "               EXPERT  = [2, 3, 1, 2, 3,   3, 3, 3, 2, 3, 3, 3, 2, 2, 3,   0, 0, 0, 0, 1, 1, 2, 3, 3, 3, 0, 0])"
      ]
    },
    {
      "cell_type": "code",
      "execution_count": null,
      "id": "5b942161",
      "metadata": {
        "colab": {
          "base_uri": "https://localhost:8080/"
        },
        "id": "5b942161",
        "outputId": "6a41313e-45d6-4b19-e427-eb9ab8226463"
      },
      "outputs": [
        {
          "output_type": "stream",
          "name": "stdout",
          "text": [
            "GUIDE - GUIDE:  1.0\n",
            "GUIDE - EXPERT:  0.6296296296296297\n",
            "EXPERT - GUIDE:  0.6296296296296297\n",
            "EXPERT - EXPERT:  1.0\n"
          ]
        }
      ],
      "source": [
        "xai_jaccard(dict_fe)"
      ]
    }
  ],
  "metadata": {
    "kernelspec": {
      "display_name": "Python 3 (ipykernel)",
      "language": "python",
      "name": "python3"
    },
    "language_info": {
      "codemirror_mode": {
        "name": "ipython",
        "version": 3
      },
      "file_extension": ".py",
      "mimetype": "text/x-python",
      "name": "python",
      "nbconvert_exporter": "python",
      "pygments_lexer": "ipython3",
      "version": "3.11.7"
    },
    "colab": {
      "provenance": [],
      "include_colab_link": true
    }
  },
  "nbformat": 4,
  "nbformat_minor": 5
}