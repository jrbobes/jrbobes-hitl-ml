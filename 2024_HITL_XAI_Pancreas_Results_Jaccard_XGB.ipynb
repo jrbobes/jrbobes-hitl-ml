{
  "cells": [
    {
      "cell_type": "markdown",
      "metadata": {
        "id": "view-in-github",
        "colab_type": "text"
      },
      "source": [
        "<a href=\"https://colab.research.google.com/github/jrbobes/jrbobes-hitl-ml/blob/master/2024_HITL_XAI_Pancreas_Results_Jaccard_XGB.ipynb\" target=\"_parent\"><img src=\"https://colab.research.google.com/assets/colab-badge.svg\" alt=\"Open In Colab\"/></a>"
      ]
    },
    {
      "cell_type": "markdown",
      "source": [
        "# JACCARD similarity for features importance for XGBoost"
      ],
      "metadata": {
        "id": "us8ugSxwtAnT"
      },
      "id": "us8ugSxwtAnT"
    },
    {
      "cell_type": "code",
      "execution_count": 1,
      "id": "b8c3cb3e-35cb-493a-aae4-8cafc40464d3",
      "metadata": {
        "id": "b8c3cb3e-35cb-493a-aae4-8cafc40464d3"
      },
      "outputs": [],
      "source": [
        "def w_jaccard(list1, list2):\n",
        "    if (len(list1) != len(list2)):\n",
        "        print(\"ERROR: different size\")\n",
        "    global_min = 0\n",
        "    global_max = 0\n",
        "    for i in range(len(list1)):\n",
        "        global_min = global_min + min(list1[i], list2[i])\n",
        "        global_max = global_max + max(list1[i], list2[i])\n",
        "    return global_min / global_max"
      ]
    },
    {
      "cell_type": "markdown",
      "source": [
        "# RECOMMENDED features"
      ],
      "metadata": {
        "id": "J6zVHBqDsqEs"
      },
      "id": "J6zVHBqDsqEs"
    },
    {
      "cell_type": "code",
      "execution_count": 2,
      "id": "6728440c-b562-4f2a-a945-a6f505bcf622",
      "metadata": {
        "id": "6728440c-b562-4f2a-a945-a6f505bcf622"
      },
      "outputs": [],
      "source": [
        "dict_xgb_rec = dict(MDI_XGB  = [3, 3, 2, 1, 2, 0, 3, 3, 2, 2, 2, 3, 1, 2],\n",
        "                   MDA_XGB  = [2, 2, 0, 0, 0, 0, 3, 2, 3, 0, 0, 3, 0, 0],\n",
        "                   SHAP_XGB = [3, 2, 1, 1, 3, 0, 1, 2, 1, 2, 3, 2, 0, 2],\n",
        "                   LIME_XGB = [2, 3, 0, 0, 2, 0, 0, 0, 0, 0, 3, 0, 0, 0],\n",
        "                   GUIDE   = [1, 3, 2, 2, 1, 2, 2, 3, 1, 3, 1, 2, 2, 3],\n",
        "                   EXPERT  = [2, 3, 2, 3, 2, 2, 3, 3, 1, 3, 3, 2, 2, 3])"
      ]
    },
    {
      "cell_type": "code",
      "execution_count": 3,
      "id": "2f84ebac-8c9d-4598-b60c-74df60d095a4",
      "metadata": {
        "id": "2f84ebac-8c9d-4598-b60c-74df60d095a4"
      },
      "outputs": [],
      "source": [
        "def xai_jaccard(dictionary):\n",
        "    for name1, values1 in dictionary.items():\n",
        "      for name2, values2 in dictionary.items():\n",
        "          print(f\"{name1} - {name2}: \", w_jaccard(values1, values2))"
      ]
    },
    {
      "cell_type": "code",
      "execution_count": 4,
      "id": "af7e4923-8db7-4a8c-a297-3b0d95d06cd2",
      "metadata": {
        "colab": {
          "base_uri": "https://localhost:8080/"
        },
        "id": "af7e4923-8db7-4a8c-a297-3b0d95d06cd2",
        "outputId": "9ff3d5f6-e595-42f8-d469-cf1ebafe2801"
      },
      "outputs": [
        {
          "output_type": "stream",
          "name": "stdout",
          "text": [
            "MDI_XGB - MDI_XGB:  1.0\n",
            "MDI_XGB - MDA_XGB:  0.4666666666666667\n",
            "MDI_XGB - SHAP_XGB:  0.6774193548387096\n",
            "MDI_XGB - LIME_XGB:  0.3\n",
            "MDI_XGB - GUIDE:  0.6285714285714286\n",
            "MDI_XGB - EXPERT:  0.7027027027027027\n",
            "MDA_XGB - MDI_XGB:  0.4666666666666667\n",
            "MDA_XGB - MDA_XGB:  1.0\n",
            "MDA_XGB - SHAP_XGB:  0.35714285714285715\n",
            "MDA_XGB - LIME_XGB:  0.19047619047619047\n",
            "MDA_XGB - GUIDE:  0.30303030303030304\n",
            "MDA_XGB - EXPERT:  0.32432432432432434\n",
            "SHAP_XGB - MDI_XGB:  0.6774193548387096\n",
            "SHAP_XGB - MDA_XGB:  0.35714285714285715\n",
            "SHAP_XGB - SHAP_XGB:  1.0\n",
            "SHAP_XGB - LIME_XGB:  0.375\n",
            "SHAP_XGB - GUIDE:  0.5\n",
            "SHAP_XGB - EXPERT:  0.5833333333333334\n",
            "LIME_XGB - MDI_XGB:  0.3\n",
            "LIME_XGB - MDA_XGB:  0.19047619047619047\n",
            "LIME_XGB - SHAP_XGB:  0.375\n",
            "LIME_XGB - LIME_XGB:  1.0\n",
            "LIME_XGB - GUIDE:  0.1875\n",
            "LIME_XGB - EXPERT:  0.29411764705882354\n",
            "GUIDE - MDI_XGB:  0.6285714285714286\n",
            "GUIDE - MDA_XGB:  0.30303030303030304\n",
            "GUIDE - SHAP_XGB:  0.5\n",
            "GUIDE - LIME_XGB:  0.1875\n",
            "GUIDE - GUIDE:  1.0\n",
            "GUIDE - EXPERT:  0.8235294117647058\n",
            "EXPERT - MDI_XGB:  0.7027027027027027\n",
            "EXPERT - MDA_XGB:  0.32432432432432434\n",
            "EXPERT - SHAP_XGB:  0.5833333333333334\n",
            "EXPERT - LIME_XGB:  0.29411764705882354\n",
            "EXPERT - GUIDE:  0.8235294117647058\n",
            "EXPERT - EXPERT:  1.0\n"
          ]
        }
      ],
      "source": [
        "xai_jaccard(dict_xgb_rec)"
      ]
    },
    {
      "cell_type": "markdown",
      "source": [
        "# MINIMUM features"
      ],
      "metadata": {
        "id": "ZE2B0hGBslHf"
      },
      "id": "ZE2B0hGBslHf"
    },
    {
      "cell_type": "code",
      "execution_count": 5,
      "id": "f87a1ebe-91b0-4e96-b131-bd962c3848b9",
      "metadata": {
        "id": "f87a1ebe-91b0-4e96-b131-bd962c3848b9"
      },
      "outputs": [],
      "source": [
        "dict_xgb_min = dict(MDI_XGB  = [2, 3, 2, 2, 2],\n",
        "                   MDA_XGB   = [3, 3, 1, 2, 2],\n",
        "                   SHAP_XGB  = [3, 3, 2, 1, 2],\n",
        "                   LIME_XGB  = [2, 3, 2, 0, 2],\n",
        "                   GUIDE     = [1, 3, 2, 2, 2],\n",
        "                   EXPERT     = [2, 3, 1, 2, 3])"
      ]
    },
    {
      "cell_type": "code",
      "execution_count": 6,
      "id": "c4649e05-d567-4dbd-b12d-392aae98d379",
      "metadata": {
        "colab": {
          "base_uri": "https://localhost:8080/"
        },
        "id": "c4649e05-d567-4dbd-b12d-392aae98d379",
        "outputId": "7aff14a4-7e3a-41f9-e088-e588c751196c"
      },
      "outputs": [
        {
          "output_type": "stream",
          "name": "stdout",
          "text": [
            "MDI_XGB - MDI_XGB:  1.0\n",
            "MDI_XGB - MDA_XGB:  0.8333333333333334\n",
            "MDI_XGB - SHAP_XGB:  0.8333333333333334\n",
            "MDI_XGB - LIME_XGB:  0.8181818181818182\n",
            "MDI_XGB - GUIDE:  0.9090909090909091\n",
            "MDI_XGB - EXPERT:  0.8333333333333334\n",
            "MDA_XGB - MDI_XGB:  0.8333333333333334\n",
            "MDA_XGB - MDA_XGB:  1.0\n",
            "MDA_XGB - SHAP_XGB:  0.8333333333333334\n",
            "MDA_XGB - LIME_XGB:  0.6666666666666666\n",
            "MDA_XGB - GUIDE:  0.75\n",
            "MDA_XGB - EXPERT:  0.8333333333333334\n",
            "SHAP_XGB - MDI_XGB:  0.8333333333333334\n",
            "SHAP_XGB - MDA_XGB:  0.8333333333333334\n",
            "SHAP_XGB - SHAP_XGB:  1.0\n",
            "SHAP_XGB - LIME_XGB:  0.8181818181818182\n",
            "SHAP_XGB - GUIDE:  0.75\n",
            "SHAP_XGB - EXPERT:  0.6923076923076923\n",
            "LIME_XGB - MDI_XGB:  0.8181818181818182\n",
            "LIME_XGB - MDA_XGB:  0.6666666666666666\n",
            "LIME_XGB - SHAP_XGB:  0.8181818181818182\n",
            "LIME_XGB - LIME_XGB:  1.0\n",
            "LIME_XGB - GUIDE:  0.7272727272727273\n",
            "LIME_XGB - EXPERT:  0.6666666666666666\n",
            "GUIDE - MDI_XGB:  0.9090909090909091\n",
            "GUIDE - MDA_XGB:  0.75\n",
            "GUIDE - SHAP_XGB:  0.75\n",
            "GUIDE - LIME_XGB:  0.7272727272727273\n",
            "GUIDE - GUIDE:  1.0\n",
            "GUIDE - EXPERT:  0.75\n",
            "EXPERT - MDI_XGB:  0.8333333333333334\n",
            "EXPERT - MDA_XGB:  0.8333333333333334\n",
            "EXPERT - SHAP_XGB:  0.6923076923076923\n",
            "EXPERT - LIME_XGB:  0.6666666666666666\n",
            "EXPERT - GUIDE:  0.75\n",
            "EXPERT - EXPERT:  1.0\n"
          ]
        }
      ],
      "source": [
        "xai_jaccard(dict_xgb_min)"
      ]
    },
    {
      "cell_type": "markdown",
      "source": [
        "# MAXIMUM features"
      ],
      "metadata": {
        "id": "-sUzaZOIstpV"
      },
      "id": "-sUzaZOIstpV"
    },
    {
      "cell_type": "code",
      "execution_count": 7,
      "id": "f045f817-3cef-4aff-ad24-9ac0dc41a533",
      "metadata": {
        "id": "f045f817-3cef-4aff-ad24-9ac0dc41a533"
      },
      "outputs": [],
      "source": [
        "dict_xgb_max = dict(MDI_XGB  = [3, 2, 0, 1, 1,   2, 0, 1, 1, 1, 3, 1, 1, 0, 2,   2, 1, 0, 0, 1, 1, 1, 1, 0, 1, 2, 1],\n",
        "                   MDA_XGB  = [0, 3, 0, 0, 0,   0, 0, 3, 0, 2, 1, 2, 0, 0, 0,   3, 0, 0, 0, 0, 3, 2, 0, 2, 0, 0, 0],\n",
        "                   SHAP_XGB = [3, 3, 0, 0, 0,   3, 0, 2, 2, 1, 2, 3, 2, 0, 2,   3, 1, 1, 0, 0, 3, 1, 1, 0, 0, 2, 2],\n",
        "                   LIME_XGB = [2, 3, 0, 0, 0,   1, 0, 0, 0, 0, 0, 0, 0, 0, 0,   0, 1, 0, 0, 0, 3, 0, 0, 0, 0, 0, 0],\n",
        "                   GUIDE   = [1, 3, 2, 2, 2,   1, 2, 2, 3, 1, 3, 1, 2, 2, 3,   0, 0, 0, 0, 1, 2, 2, 2, 0, 0, 0, 0],\n",
        "                   EXPERT  = [2, 3, 1, 2, 3,   3, 3, 3, 2, 3, 3, 3, 2, 2, 3,   0, 0, 0, 0, 1, 1, 2, 3, 3, 3, 0, 0])"
      ]
    },
    {
      "cell_type": "code",
      "execution_count": 8,
      "id": "0f86fa48-9a95-4b64-9188-32261ab327e9",
      "metadata": {
        "colab": {
          "base_uri": "https://localhost:8080/"
        },
        "id": "0f86fa48-9a95-4b64-9188-32261ab327e9",
        "outputId": "7df16552-6c3c-4bef-fa20-3c2269b43f76"
      },
      "outputs": [
        {
          "output_type": "stream",
          "name": "stdout",
          "text": [
            "MDI_XGB - MDI_XGB:  1.0\n",
            "MDI_XGB - MDA_XGB:  0.24390243902439024\n",
            "MDI_XGB - SHAP_XGB:  0.5952380952380952\n",
            "MDI_XGB - LIME_XGB:  0.21212121212121213\n",
            "MDI_XGB - GUIDE:  0.425531914893617\n",
            "MDI_XGB - EXPERT:  0.39655172413793105\n",
            "MDA_XGB - MDI_XGB:  0.24390243902439024\n",
            "MDA_XGB - MDA_XGB:  1.0\n",
            "MDA_XGB - SHAP_XGB:  0.38095238095238093\n",
            "MDA_XGB - LIME_XGB:  0.24\n",
            "MDA_XGB - GUIDE:  0.2608695652173913\n",
            "MDA_XGB - EXPERT:  0.2857142857142857\n",
            "SHAP_XGB - MDI_XGB:  0.5952380952380952\n",
            "SHAP_XGB - MDA_XGB:  0.38095238095238093\n",
            "SHAP_XGB - SHAP_XGB:  1.0\n",
            "SHAP_XGB - LIME_XGB:  0.2702702702702703\n",
            "SHAP_XGB - GUIDE:  0.39622641509433965\n",
            "SHAP_XGB - EXPERT:  0.3968253968253968\n",
            "LIME_XGB - MDI_XGB:  0.21212121212121213\n",
            "LIME_XGB - MDA_XGB:  0.24\n",
            "LIME_XGB - SHAP_XGB:  0.2702702702702703\n",
            "LIME_XGB - LIME_XGB:  1.0\n",
            "LIME_XGB - GUIDE:  0.175\n",
            "LIME_XGB - EXPERT:  0.12962962962962962\n",
            "GUIDE - MDI_XGB:  0.425531914893617\n",
            "GUIDE - MDA_XGB:  0.2608695652173913\n",
            "GUIDE - SHAP_XGB:  0.39622641509433965\n",
            "GUIDE - LIME_XGB:  0.175\n",
            "GUIDE - GUIDE:  1.0\n",
            "GUIDE - EXPERT:  0.6296296296296297\n",
            "EXPERT - MDI_XGB:  0.39655172413793105\n",
            "EXPERT - MDA_XGB:  0.2857142857142857\n",
            "EXPERT - SHAP_XGB:  0.3968253968253968\n",
            "EXPERT - LIME_XGB:  0.12962962962962962\n",
            "EXPERT - GUIDE:  0.6296296296296297\n",
            "EXPERT - EXPERT:  1.0\n"
          ]
        }
      ],
      "source": [
        "xai_jaccard(dict_xgb_max)"
      ]
    },
    {
      "cell_type": "markdown",
      "source": [
        "# Guidelines vs Experts"
      ],
      "metadata": {
        "id": "gSRtigRSzQ6D"
      },
      "id": "gSRtigRSzQ6D"
    },
    {
      "cell_type": "code",
      "execution_count": 9,
      "id": "5007928a-bc30-4d32-9d5b-922df8cc3170",
      "metadata": {
        "id": "5007928a-bc30-4d32-9d5b-922df8cc3170"
      },
      "outputs": [],
      "source": [
        "dict_fe = dict(GUIDE   = [1, 3, 2, 2, 2,   1, 2, 2, 3, 1, 3, 1, 2, 2, 3,   0, 0, 0, 0, 1, 2, 2, 2, 0, 0, 0, 0],\n",
        "               EXPERT  = [2, 3, 1, 2, 3,   3, 3, 3, 2, 3, 3, 3, 2, 2, 3,   0, 0, 0, 0, 1, 1, 2, 3, 3, 3, 0, 0])"
      ]
    },
    {
      "cell_type": "code",
      "execution_count": 10,
      "id": "5b942161",
      "metadata": {
        "colab": {
          "base_uri": "https://localhost:8080/"
        },
        "id": "5b942161",
        "outputId": "d8834c4f-625e-4f79-ac9b-f292331f4301"
      },
      "outputs": [
        {
          "output_type": "stream",
          "name": "stdout",
          "text": [
            "GUIDE - GUIDE:  1.0\n",
            "GUIDE - EXPERT:  0.6296296296296297\n",
            "EXPERT - GUIDE:  0.6296296296296297\n",
            "EXPERT - EXPERT:  1.0\n"
          ]
        }
      ],
      "source": [
        "xai_jaccard(dict_fe)"
      ]
    }
  ],
  "metadata": {
    "kernelspec": {
      "display_name": "Python 3 (ipykernel)",
      "language": "python",
      "name": "python3"
    },
    "language_info": {
      "codemirror_mode": {
        "name": "ipython",
        "version": 3
      },
      "file_extension": ".py",
      "mimetype": "text/x-python",
      "name": "python",
      "nbconvert_exporter": "python",
      "pygments_lexer": "ipython3",
      "version": "3.11.7"
    },
    "colab": {
      "provenance": [],
      "include_colab_link": true
    }
  },
  "nbformat": 4,
  "nbformat_minor": 5
}